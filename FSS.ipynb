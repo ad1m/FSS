{
 "cells": [
  {
   "cell_type": "markdown",
   "metadata": {},
   "source": [
    "<center><h1><font color=\"orange\">Income Statement Scraper</font></h1></center>"
   ]
  },
  {
   "cell_type": "code",
   "execution_count": 29,
   "metadata": {
    "collapsed": true
   },
   "outputs": [],
   "source": [
    "import requests\n",
    "from bs4 import BeautifulSoup\n",
    "import pandas as pd\n",
    "import lxml"
   ]
  },
  {
   "cell_type": "code",
   "execution_count": 45,
   "metadata": {
    "collapsed": false
   },
   "outputs": [],
   "source": [
    "def getIncomeStatement(exchange,ticker):\n",
    "    link = 'https://www.google.com/finance?q='+exchange+'%3A'+ticker+'&fstype=ii&ei=wt1qWemALIO3mAH_0KOQBw'\n",
    "    url = requests.get(link).text\n",
    "    soup = BeautifulSoup(url,'html.parser')\n",
    "    table = soup.find('table',{'class':'gf-table rgt'}).prettify()\n",
    "    df = pd.read_html(table)[0]\n",
    "    return df"
   ]
  },
  {
   "cell_type": "code",
   "execution_count": 48,
   "metadata": {
    "collapsed": false
   },
   "outputs": [
    {
     "name": "stdout",
     "output_type": "stream",
     "text": [
      "In Millions of USD (except for per share items)    Selling/General/Admin. Expenses, Total\n",
      "13 weeks ending 2017-04-01                                                        3718.00\n",
      "14 weeks ending 2016-12-31                                                        3946.00\n",
      "13 weeks ending 2016-09-24                                                        3482.00\n",
      "13 weeks ending 2016-06-25                                                        3441.00\n",
      "13 weeks ending 2016-03-26                                                        3423.00\n",
      "Name: 5, dtype: object\n"
     ]
    }
   ],
   "source": [
    "df = getIncomeStatement('NASDAQ','AAPL')\n",
    "print(df.iloc[5])"
   ]
  }
 ],
 "metadata": {
  "kernelspec": {
   "display_name": "Python 3",
   "language": "python",
   "name": "python3"
  },
  "language_info": {
   "codemirror_mode": {
    "name": "ipython",
    "version": 3
   },
   "file_extension": ".py",
   "mimetype": "text/x-python",
   "name": "python",
   "nbconvert_exporter": "python",
   "pygments_lexer": "ipython3",
   "version": "3.5.2"
  }
 },
 "nbformat": 4,
 "nbformat_minor": 2
}
